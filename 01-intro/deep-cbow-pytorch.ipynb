{
 "cells": [
  {
   "cell_type": "code",
   "execution_count": 17,
   "metadata": {},
   "outputs": [],
   "source": [
    "from collections import defaultdict\n",
    "import time\n",
    "import random\n",
    "import torch\n",
    "import numpy as np\n",
    "\n",
    "# Functions to read in the corpus\n",
    "w2i = defaultdict(lambda: len(w2i))\n",
    "t2i = defaultdict(lambda: len(t2i))\n",
    "UNK = w2i[\"<unk>\"]\n",
    "\n",
    "def read_dataset(filename):\n",
    "  with open(filename, \"r\") as f:\n",
    "    for line in f:\n",
    "      tag, words = line.lower().strip().split(\" ||| \")\n",
    "      yield ([w2i[x] for x in words.split(\" \")], t2i[tag])\n",
    "\n",
    "# Read in the data\n",
    "train = list(read_dataset(\"../data/classes/train.txt\"))\n",
    "\n",
    "\n",
    "w2i = defaultdict(lambda: UNK, w2i)\n",
    "dev = list(read_dataset(\"../data/classes/test.txt\"))\n",
    "nwords = len(w2i)\n",
    "ntags = len(t2i)"
   ]
  },
  {
   "cell_type": "code",
   "execution_count": 19,
   "metadata": {},
   "outputs": [
    {
     "name": "stdout",
     "output_type": "stream",
     "text": [
      "36 8544\n"
     ]
    }
   ],
   "source": [
    "print(len(xtrain[0]), len(ytrain))"
   ]
  },
  {
   "cell_type": "code",
   "execution_count": 27,
   "metadata": {},
   "outputs": [],
   "source": [
    "from torch.autograd import Variable\n",
    "ftype = torch.cuda.FloatTensor\n",
    "ltype = torch.cuda.LongTensor\n",
    "\n",
    "num_epochs = 100"
   ]
  },
  {
   "cell_type": "code",
   "execution_count": null,
   "metadata": {},
   "outputs": [],
   "source": [
    "import torch.nn as nn\n",
    "\n",
    "EMB_SIZE = 64\n",
    "HID_SIZE = 64\n",
    "num_epochs = 100\n",
    "\n",
    "model = torch.nn.Sequential(\n",
    "    nn.EmbeddingBag(nwords, EMB_SIZE, mode='sum'),\n",
    "    nn.Linear(EMB_SIZE, HID_SIZE),\n",
    "    nn.Tanh(),\n",
    "    nn.Linear(HID_SIZE, HID_SIZE),\n",
    "    nn.Tanh(),\n",
    "    nn.Linear(HID_SIZE, ntags)\n",
    ")\n",
    "\n",
    "loss_fn = torch.nn.CrossEntropyLoss()\n",
    "optimizer = torch.optim.Adam(model.parameters())\n",
    "\n",
    "for epoch in range(num_epochs):\n",
    "    \n",
    "    #Perform training\n",
    "    train_loss = 0.0\n",
    "    random.shuffle(train)\n",
    "    start = time.time()\n",
    "    \n",
    "    for words, tag in train:\n",
    "        x = Variable(torch.LongTensor([words]), requires_grad = False)\n",
    "        y = Variable(torch.LongTensor([tag]), requires_grad = False)\n",
    "        \n",
    "        # forward pass\n",
    "        y_pred = model(x)\n",
    "        loss = loss_fn(y_pred, y)\n",
    "        train_loss += loss.data[0]\n",
    "        \n",
    "        # backward pass\n",
    "        model.zero_grad()\n",
    "        loss.backward()\n",
    "        optimizer.step()\n",
    "\n",
    "        #trainer.update()\n",
    "        \n",
    "    print(\"iter %r: train loss/sent=%.4f, time=%.2fs\" % (epoch, train_loss/len(train), time.time()-start))\n",
    "    \n",
    "    # Perform testing\n",
    "    test_correct = 0.0\n",
    "    \n",
    "    for words, tag in dev:\n",
    "        x = Variable(torch.LongTensor([words]), requires_grad = False)\n",
    "        y = Variable(torch.LongTensor([tag]), requires_grad = False)\n",
    "        y_pred = model(x)\n",
    "        if y_pred == y:\n",
    "            test_correct += 1\n",
    "    \n",
    "    print(\"iter %r: test acc=%.4f\" % (epoch, test_correct/len(dev)))"
   ]
  },
  {
   "cell_type": "code",
   "execution_count": null,
   "metadata": {},
   "outputs": [],
   "source": []
  }
 ],
 "metadata": {
  "anaconda-cloud": {},
  "kernelspec": {
   "display_name": "Python 3",
   "language": "python",
   "name": "python3"
  },
  "language_info": {
   "codemirror_mode": {
    "name": "ipython",
    "version": 3
   },
   "file_extension": ".py",
   "mimetype": "text/x-python",
   "name": "python",
   "nbconvert_exporter": "python",
   "pygments_lexer": "ipython3",
   "version": "3.6.2"
  }
 },
 "nbformat": 4,
 "nbformat_minor": 2
}
